{
 "cells": [
  {
   "cell_type": "markdown",
   "metadata": {},
   "source": [
    "[숙제 1]  MNIST 데이터 학습 네트워크 구현 \n",
    "- Input Data:  MNIST Dataset  \n",
    "- Network: Node수가 50, 10, 40인 Hidden Layer 3개  \n",
    "- Activatio Function = Sigmoid, ReLu (둘다 해 보기)  \n",
    "- Last Function:  Softmax  \n",
    "- Loss Function: Cross Entropy Error   \n",
    "- Iteration until Loss < 0.01   \n",
    "- Batch Size = 153  \n",
    "- 출력그래프: Train Loss 그래프, Test Loss 그래프  \n",
    "- 제출 결과물: 코드와 출력그래프 4개 (2개는 Sogmoid 일때, 2개는 ReLu 일때)  "
   ]
  },
  {
   "cell_type": "code",
   "execution_count": 1,
   "metadata": {},
   "outputs": [
    {
     "name": "stdout",
     "output_type": "stream",
     "text": [
      "10 -> train_loss : 2.2986851105164683 test_loss: 2.3010740403047296\n",
      "20 -> train_loss : 2.3006385130106732 test_loss: 2.3010386546858745\n",
      "30 -> train_loss : 2.3002915635859464 test_loss: 2.301025123515194\n",
      "40 -> train_loss : 2.302641643728681 test_loss: 2.3010271505057123\n",
      "50 -> train_loss : 2.3000054314100464 test_loss: 2.301016152797597\n",
      "60 -> train_loss : 2.303781483459793 test_loss: 2.301029030272172\n",
      "70 -> train_loss : 2.294613289384631 test_loss: 2.3010285059705198\n",
      "80 -> train_loss : 2.3026218378198333 test_loss: 2.3010188763759123\n",
      "90 -> train_loss : 2.3038647539099095 test_loss: 2.3009603645729495\n",
      "100 -> train_loss : 2.3033663651166862 test_loss: 2.3010036359352606\n",
      "110 -> train_loss : 2.306028605212358 test_loss: 2.3009683885540997\n",
      "120 -> train_loss : 2.303474210376539 test_loss: 2.300964589664566\n",
      "130 -> train_loss : 2.295637696067484 test_loss: 2.3006391447749674\n",
      "140 -> train_loss : 2.2789855502431715 test_loss: 2.282425165116215\n",
      "150 -> train_loss : 1.2049830172099174 test_loss: 1.2601318276266502\n",
      "160 -> train_loss : 0.9109799470202534 test_loss: 0.9636841531235656\n",
      "170 -> train_loss : 0.6128485199793117 test_loss: 0.6570836311808478\n",
      "180 -> train_loss : 0.27266401055730716 test_loss: 0.3948910060942697\n",
      "190 -> train_loss : 0.24069145930700192 test_loss: 0.30633082160238134\n",
      "200 -> train_loss : 0.18209737305526918 test_loss: 0.2758416205699005\n",
      "210 -> train_loss : 0.09344538139427994 test_loss: 0.23410415434198398\n",
      "220 -> train_loss : 0.09231714480286969 test_loss: 0.20736009142729508\n",
      "230 -> train_loss : 0.0649579090533734 test_loss: 0.20187143801071994\n",
      "240 -> train_loss : 0.06311560453835113 test_loss: 0.2029392399360727\n",
      "250 -> train_loss : 0.02330454463192997 test_loss: 0.20000400057216053\n",
      "loss_train_final: 0.00932845274565899 loss_test_final: 0.21087561898377175\n"
     ]
    }
   ],
   "source": [
    "import numpy as np\n",
    "from dataset.mnist import load_mnist\n",
    "from module import *\n",
    "import matplotlib.pyplot as plt\n",
    "\n",
    "# load data\n",
    "(x_train, y_train), (x_test, y_test) = load_mnist(flatten = True, normalize=True, one_hot_label = True)\n",
    "\n",
    "# define network\n",
    "net = fc_module(input_size = x_train.shape[1], hidden_size = [50,10,40], output_size = 10, act='relu')\n",
    "\n",
    "# define hyper parameter\n",
    "train_size = x_train.shape[0]\n",
    "batch_size = 153\n",
    "learning_rate = 0.01\n",
    "\n",
    "train_loss_list = []\n",
    "test_loss_list = []\n",
    "\n",
    "iter_per_epoch = max(train_size // batch_size, 1)\n",
    "\n",
    "i = 0\n",
    "iter_num = 0\n",
    "\n",
    "while(True):\n",
    "    batch_mask = np.random.choice(train_size, batch_size)\n",
    "    \n",
    "    x_batch = x_train[batch_mask]\n",
    "    y_batch = y_train[batch_mask]\n",
    "    grad = net.gradient(x_batch, y_batch)\n",
    "    \n",
    "    for key in ('W1','b1','W2','b2','W3','b3','W4','b4'):\n",
    "        net.params[key] -= learning_rate * grad[key]\n",
    "    \n",
    "    loss = net.loss(x_batch, y_batch)\n",
    "    train_loss_list.append(loss)\n",
    "    i = i+1\n",
    "    \n",
    "    if i % iter_per_epoch == 0:\n",
    "        iter_num = iter_num+1\n",
    "        test_loss = net.loss(x_test, y_test)\n",
    "        test_loss_list.append(test_loss)\n",
    "        if iter_num % 10 == 0:\n",
    "            print(iter_num,'-> train_loss :',loss,'test_loss:',test_loss)\n",
    "    if loss<0.01:\n",
    "        print('loss_train_final:',loss, 'loss_test_final:',test_loss)\n",
    "        break\n",
    "    "
   ]
  },
  {
   "cell_type": "code",
   "execution_count": 5,
   "metadata": {},
   "outputs": [
    {
     "data": {
      "image/png": "[encoded data removed]",
      "text/plain": [
       "<Figure size 432x288 with 1 Axes>"
      ]
     },
     "metadata": {
      "needs_background": "light"
     },
     "output_type": "display_data"
    }
   ],
   "source": [
    "plt.title('train_loss, ReLu')\n",
    "plt.plot(train_loss_list)\n",
    "plt.show()"
   ]
  },
  {
   "cell_type": "code",
   "execution_count": 7,
   "metadata": {},
   "outputs": [
    {
     "data": {
      "image/png": "[encoded data removed]",
      "text/plain": [
       "<Figure size 432x288 with 1 Axes>"
      ]
     },
     "metadata": {
      "needs_background": "light"
     },
     "output_type": "display_data"
    }
   ],
   "source": [
    "plt.title('test_loss, Relu')\n",
    "plt.plot(test_loss_list)\n",
    "plt.show()"
   ]
  },
  {
   "cell_type": "markdown",
   "metadata": {},
   "source": [
    "## 위와 똑같은 코드에서 net = fc_module 부분의 인자만 act = 'sigmoid'"
   ]
  },
  {
   "cell_type": "code",
   "execution_count": 13,
   "metadata": {},
   "outputs": [
    {
     "name": "stdout",
     "output_type": "stream",
     "text": [
      "10 -> train_loss : 2.296164999509224 test_loss: 2.3032522055902342\n",
      "20 -> train_loss : 2.3063631505964772 test_loss: 2.302704165208855\n",
      "30 -> train_loss : 2.2977034367240856 test_loss: 2.302938468787761\n",
      "40 -> train_loss : 2.297439008557593 test_loss: 2.3015572949028114\n",
      "50 -> train_loss : 2.2991054202969763 test_loss: 2.3027944560460814\n",
      "60 -> train_loss : 2.302468461226512 test_loss: 2.301130482344214\n",
      "70 -> train_loss : 2.298703062274009 test_loss: 2.3017056212321094\n",
      "80 -> train_loss : 2.304236203912386 test_loss: 2.301711423886833\n",
      "90 -> train_loss : 2.295284604190675 test_loss: 2.3015014178196465\n",
      "100 -> train_loss : 2.2980122017169293 test_loss: 2.296693126127573\n",
      "110 -> train_loss : 1.626622988130578 test_loss: 1.7236027086385077\n",
      "120 -> train_loss : 1.2819022815496999 test_loss: 1.299157646296734\n",
      "130 -> train_loss : 0.7714175963155154 test_loss: 0.8251864125910293\n",
      "140 -> train_loss : 0.3668678712274351 test_loss: 0.4403590215275495\n",
      "150 -> train_loss : 0.2309462031798619 test_loss: 0.31589045577596025\n",
      "160 -> train_loss : 0.25282644331373993 test_loss: 0.2749135378127252\n",
      "170 -> train_loss : 0.09997659682808692 test_loss: 0.25571058385130707\n",
      "180 -> train_loss : 0.10089040802137372 test_loss: 0.2385442529003436\n",
      "190 -> train_loss : 0.11432928620740154 test_loss: 0.2254936385856038\n",
      "200 -> train_loss : 0.06243347196544932 test_loss: 0.2177466411168073\n",
      "210 -> train_loss : 0.07454911075082105 test_loss: 0.21901821338142705\n",
      "220 -> train_loss : 0.025089960523601598 test_loss: 0.214713235753269\n",
      "230 -> train_loss : 0.037648899173654105 test_loss: 0.21325810702974218\n",
      "240 -> train_loss : 0.07015401546046288 test_loss: 0.2140915718492377\n",
      "loss_train_final: 0.00946148233668341 loss_test_final: 0.21497336018109467\n"
     ]
    }
   ],
   "source": [
    "import numpy as np\n",
    "from dataset.mnist import load_mnist\n",
    "from module import *\n",
    "import matplotlib.pyplot as plt\n",
    "\n",
    "# load data\n",
    "(x_train, y_train), (x_test, y_test) = load_mnist(flatten = True, normalize=True, one_hot_label = True)\n",
    "\n",
    "# define network\n",
    "net = fc_module(input_size = x_train.shape[1], hidden_size = [50,10,40], output_size = 10, act='sigmoid')\n",
    "\n",
    "# define hyper parameter\n",
    "train_size = x_train.shape[0]\n",
    "batch_size = 153\n",
    "learning_rate = 0.1\n",
    "\n",
    "train_loss_list = []\n",
    "test_loss_list = []\n",
    "\n",
    "iter_per_epoch = max(train_size // batch_size, 1)\n",
    "\n",
    "i = 0\n",
    "iter_num = 0\n",
    "\n",
    "while(True):\n",
    "    batch_mask = np.random.choice(train_size, batch_size)\n",
    "    \n",
    "    x_batch = x_train[batch_mask]\n",
    "    y_batch = y_train[batch_mask]\n",
    "    grad = net.gradient(x_batch, y_batch)\n",
    "    \n",
    "    for key in ('W1','b1','W2','b2','W3','b3','W4','b4'):\n",
    "        net.params[key] -= learning_rate * grad[key]\n",
    "    \n",
    "    loss = net.loss(x_batch, y_batch)\n",
    "    train_loss_list.append(loss)\n",
    "    i = i+1\n",
    "    \n",
    "    if i % iter_per_epoch == 0:\n",
    "        iter_num = iter_num+1\n",
    "        test_loss = net.loss(x_test, y_test)\n",
    "        test_loss_list.append(test_loss)\n",
    "        if iter_num % 10 == 0:\n",
    "            print(iter_num,'-> train_loss :',loss,'test_loss:',test_loss)\n",
    "    if loss<0.01:\n",
    "        print('loss_train_final:',loss, 'loss_test_final:',test_loss)\n",
    "        break\n",
    "    "
   ]
  },
  {
   "cell_type": "code",
   "execution_count": 14,
   "metadata": {},
   "outputs": [
    {
     "data": {
      "image/png": "[encoded data removed]",
      "text/plain": [
       "<Figure size 432x288 with 1 Axes>"
      ]
     },
     "metadata": {
      "needs_background": "light"
     },
     "output_type": "display_data"
    }
   ],
   "source": [
    "plt.title('train_loss, Sigmoid')\n",
    "plt.plot(train_loss_list)\n",
    "plt.show()"
   ]
  },
  {
   "cell_type": "code",
   "execution_count": 15,
   "metadata": {},
   "outputs": [
    {
     "data": {
      "image/png": "[encoded data removed]",
      "text/plain": [
       "<Figure size 432x288 with 1 Axes>"
      ]
     },
     "metadata": {
      "needs_background": "light"
     },
     "output_type": "display_data"
    }
   ],
   "source": [
    "plt.title('test_loss, Sigmoid')\n",
    "plt.plot(test_loss_list)\n",
    "plt.show()"
   ]
  }
 ],
 "metadata": {
  "kernelspec": {
   "display_name": "Python 3",
   "language": "python",
   "name": "python3"
  },
  "language_info": {
   "codemirror_mode": {
    "name": "ipython",
    "version": 3
   },
   "file_extension": ".py",
   "mimetype": "text/x-python",
   "name": "python",
   "nbconvert_exporter": "python",
   "pygments_lexer": "ipython3",
   "version": "3.6.7"
  }
 },
 "nbformat": 4,
 "nbformat_minor": 4
}
